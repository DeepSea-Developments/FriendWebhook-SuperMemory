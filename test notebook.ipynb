{
 "cells": [
  {
   "cell_type": "code",
   "execution_count": 4,
   "metadata": {},
   "outputs": [
    {
     "name": "stdout",
     "output_type": "stream",
     "text": [
      "Defaulting to user installation because normal site-packages is not writeable\n",
      "Requirement already satisfied: fastapi in c:\\users\\nick\\appdata\\local\\packages\\pythonsoftwarefoundation.python.3.12_qbz5n2kfra8p0\\localcache\\local-packages\\python312\\site-packages (0.112.2)\n",
      "Requirement already satisfied: uvicorn in c:\\users\\nick\\appdata\\local\\packages\\pythonsoftwarefoundation.python.3.12_qbz5n2kfra8p0\\localcache\\local-packages\\python312\\site-packages (0.30.6)\n",
      "Requirement already satisfied: starlette<0.39.0,>=0.37.2 in c:\\users\\nick\\appdata\\local\\packages\\pythonsoftwarefoundation.python.3.12_qbz5n2kfra8p0\\localcache\\local-packages\\python312\\site-packages (from fastapi) (0.38.2)\n",
      "Requirement already satisfied: pydantic!=1.8,!=1.8.1,!=2.0.0,!=2.0.1,!=2.1.0,<3.0.0,>=1.7.4 in c:\\users\\nick\\appdata\\local\\packages\\pythonsoftwarefoundation.python.3.12_qbz5n2kfra8p0\\localcache\\local-packages\\python312\\site-packages (from fastapi) (2.7.4)\n",
      "Requirement already satisfied: typing-extensions>=4.8.0 in c:\\users\\nick\\appdata\\local\\packages\\pythonsoftwarefoundation.python.3.12_qbz5n2kfra8p0\\localcache\\local-packages\\python312\\site-packages (from fastapi) (4.12.2)\n",
      "Requirement already satisfied: click>=7.0 in c:\\users\\nick\\appdata\\local\\packages\\pythonsoftwarefoundation.python.3.12_qbz5n2kfra8p0\\localcache\\local-packages\\python312\\site-packages (from uvicorn) (8.1.7)\n",
      "Requirement already satisfied: h11>=0.8 in c:\\users\\nick\\appdata\\local\\packages\\pythonsoftwarefoundation.python.3.12_qbz5n2kfra8p0\\localcache\\local-packages\\python312\\site-packages (from uvicorn) (0.14.0)\n",
      "Requirement already satisfied: colorama in c:\\users\\nick\\appdata\\local\\packages\\pythonsoftwarefoundation.python.3.12_qbz5n2kfra8p0\\localcache\\local-packages\\python312\\site-packages (from click>=7.0->uvicorn) (0.4.6)\n",
      "Requirement already satisfied: annotated-types>=0.4.0 in c:\\users\\nick\\appdata\\local\\packages\\pythonsoftwarefoundation.python.3.12_qbz5n2kfra8p0\\localcache\\local-packages\\python312\\site-packages (from pydantic!=1.8,!=1.8.1,!=2.0.0,!=2.0.1,!=2.1.0,<3.0.0,>=1.7.4->fastapi) (0.7.0)\n",
      "Requirement already satisfied: pydantic-core==2.18.4 in c:\\users\\nick\\appdata\\local\\packages\\pythonsoftwarefoundation.python.3.12_qbz5n2kfra8p0\\localcache\\local-packages\\python312\\site-packages (from pydantic!=1.8,!=1.8.1,!=2.0.0,!=2.0.1,!=2.1.0,<3.0.0,>=1.7.4->fastapi) (2.18.4)\n",
      "Requirement already satisfied: anyio<5,>=3.4.0 in c:\\users\\nick\\appdata\\local\\packages\\pythonsoftwarefoundation.python.3.12_qbz5n2kfra8p0\\localcache\\local-packages\\python312\\site-packages (from starlette<0.39.0,>=0.37.2->fastapi) (4.4.0)\n",
      "Requirement already satisfied: idna>=2.8 in c:\\users\\nick\\appdata\\local\\packages\\pythonsoftwarefoundation.python.3.12_qbz5n2kfra8p0\\localcache\\local-packages\\python312\\site-packages (from anyio<5,>=3.4.0->starlette<0.39.0,>=0.37.2->fastapi) (3.6)\n",
      "Requirement already satisfied: sniffio>=1.1 in c:\\users\\nick\\appdata\\local\\packages\\pythonsoftwarefoundation.python.3.12_qbz5n2kfra8p0\\localcache\\local-packages\\python312\\site-packages (from anyio<5,>=3.4.0->starlette<0.39.0,>=0.37.2->fastapi) (1.3.1)\n",
      "Defaulting to user installation because normal site-packages is not writeable\n",
      "Requirement already satisfied: nest_asyncio in c:\\users\\nick\\appdata\\local\\packages\\pythonsoftwarefoundation.python.3.12_qbz5n2kfra8p0\\localcache\\local-packages\\python312\\site-packages (1.6.0)\n"
     ]
    }
   ],
   "source": [
    "!pip install fastapi uvicorn\n",
    "!pip install nest_asyncio"
   ]
  },
  {
   "cell_type": "code",
   "execution_count": 5,
   "metadata": {},
   "outputs": [
    {
     "name": "stderr",
     "output_type": "stream",
     "text": [
      "INFO:     Started server process [35968]\n",
      "INFO:     Waiting for application startup.\n",
      "INFO:     Application startup complete.\n",
      "INFO:     Uvicorn running on http://127.0.0.1:8000 (Press CTRL+C to quit)\n"
     ]
    },
    {
     "name": "stdout",
     "output_type": "stream",
     "text": [
      "Texto: Segment text, Hablante: SPEAKER_00, Inicio: 10.0, Fin: 20.0\n",
      "INFO:     127.0.0.1:52344 - \"POST /webhook HTTP/1.1\" 200 OK\n",
      "Texto: Segment text, Hablante: SPEAKER_00, Inicio: 10.0, Fin: 20.0\n",
      "INFO:     127.0.0.1:52353 - \"POST /webhook HTTP/1.1\" 200 OK\n",
      "Texto: Segment text, Hablante: SPEAKER_00, Inicio: 10.0, Fin: 20.0\n",
      "INFO:     127.0.0.1:52355 - \"POST /webhook HTTP/1.1\" 200 OK\n",
      "Texto: Segment text, Hablante: SPEAKER_00, Inicio: 10.0, Fin: 20.0\n",
      "INFO:     127.0.0.1:52357 - \"POST /webhook HTTP/1.1\" 200 OK\n"
     ]
    },
    {
     "name": "stderr",
     "output_type": "stream",
     "text": [
      "INFO:     Shutting down\n",
      "INFO:     Waiting for application shutdown.\n",
      "INFO:     Application shutdown complete.\n",
      "INFO:     Finished server process [35968]\n"
     ]
    }
   ],
   "source": [
    "import nest_asyncio\n",
    "nest_asyncio.apply()\n",
    "\n",
    "from fastapi import FastAPI\n",
    "from pydantic import BaseModel\n",
    "from typing import List\n",
    "import uvicorn\n",
    "import asyncio\n",
    "\n",
    "# Define the model for the expected JSON format\n",
    "class Segment(BaseModel):\n",
    "    text: str\n",
    "    speaker: str\n",
    "    speakerId: int\n",
    "    is_user: bool\n",
    "    start: float\n",
    "    end: float\n",
    "\n",
    "app = FastAPI()\n",
    "\n",
    "@app.post(\"/friendai/endpoint1\")\n",
    "async def receive_friendai_endpoint1(segments: List[Segment]):\n",
    "    return process_segments(segments)\n",
    "\n",
    "@app.post(\"/friendai/endpoint2\")\n",
    "async def receive_friendai_endpoint2(segments: List[Segment]):\n",
    "    return process_segments(segments)\n",
    "\n",
    "@app.post(\"/friendai/endpoint3\")\n",
    "async def receive_friendai_endpoint3(segments: List[Segment]):\n",
    "    return process_segments(segments)\n",
    "\n",
    "@app.post(\"/friendai/endpoint4\")\n",
    "async def receive_friendai_endpoint4(segments: List[Segment]):\n",
    "    return process_segments(segments)\n",
    "\n",
    "@app.post(\"/friendai/endpoint5\")\n",
    "async def receive_friendai_endpoint5(segments: List[Segment]):\n",
    "    return process_segments(segments)\n",
    "\n",
    "def process_segments(segments: List[Segment]):\n",
    "    # Process the received segments\n",
    "    for segment in segments:\n",
    "        print(f\"Text: {segment.text}, Speaker: {segment.speaker}, Start: {segment.start}, End: {segment.end}\")\n",
    "\n",
    "    return {\"message\": \"FriendAI received successfully\"}\n",
    "# Run the FastAPI server\n",
    "async def run_server():\n",
    "    config = uvicorn.Config(app, host=\"127.0.0.1\", port=8000, log_level=\"info\")\n",
    "    server = uvicorn.Server(config)\n",
    "    await server.serve()\n",
    "\n",
    "# Execute the server in an existing event loop\n",
    "await run_server()\n"
   ]
  }
 ],
 "metadata": {
  "kernelspec": {
   "display_name": "Python 3",
   "language": "python",
   "name": "python3"
  },
  "language_info": {
   "codemirror_mode": {
    "name": "ipython",
    "version": 3
   },
   "file_extension": ".py",
   "mimetype": "text/x-python",
   "name": "python",
   "nbconvert_exporter": "python",
   "pygments_lexer": "ipython3",
   "version": "3.12.5"
  }
 },
 "nbformat": 4,
 "nbformat_minor": 2
}
